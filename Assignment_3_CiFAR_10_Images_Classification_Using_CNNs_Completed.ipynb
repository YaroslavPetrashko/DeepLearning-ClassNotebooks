{
 "cells": [
  {
   "cell_type": "markdown",
   "metadata": {
    "id": "pv0LTZbgaEd0"
   },
   "source": [
    "\n",
    "# (CIFAR-10) USING CNNs\n",
    "\n"
   ]
  },
  {
   "cell_type": "markdown",
   "metadata": {
    "id": "Yjd2cYdSaEd5"
   },
   "source": [
    "- CIFAR-10 is a dataset that consists of several images divided into the following 10 classes: \n",
    "    - Airplanes\n",
    "    - Cars \n",
    "    - Birds\n",
    "    - Cats\n",
    "    - Deer\n",
    "    - Dogs\n",
    "    - Frogs\n",
    "    - Horses\n",
    "    - Ships\n",
    "    - Trucks\n",
    "\n",
    "- The dataset stands for the Canadian Institute For Advanced Research (CIFAR)\n",
    "- The dataset consists of 60,000 32x32 color images and 6,000 images of each class.\n",
    "- Images have low resolution (32x32). \n",
    "- Data Source: https://www.cs.toronto.edu/~kriz/cifar.html\n"
   ]
  },
  {
   "cell_type": "markdown",
   "metadata": {
    "id": "aIqbHnx1aEd6"
   },
   "source": [
    "\n",
    "\n",
    "```\n",
    "\n",
    "```\n",
    "\n",
    "# STEP #1: IMPORT LIBRARIES/DATASETS"
   ]
  },
  {
   "cell_type": "code",
   "execution_count": 2,
   "metadata": {
    "id": "xQvmHUlOaEd6"
   },
   "outputs": [],
   "source": [
    "import pandas as pd\n",
    "import numpy as np\n",
    "import matplotlib.pyplot as plt\n",
    "import seaborn"
   ]
  },
  {
   "cell_type": "code",
   "execution_count": 4,
   "metadata": {
    "id": "AdoIOxFzaEd8"
   },
   "outputs": [
    {
     "name": "stdout",
     "output_type": "stream",
     "text": [
      "Downloading data from https://www.cs.toronto.edu/~kriz/cifar-10-python.tar.gz\n",
      "\u001b[1m170498071/170498071\u001b[0m \u001b[32m━━━━━━━━━━━━━━━━━━━━\u001b[0m\u001b[37m\u001b[0m \u001b[1m8s\u001b[0m 0us/step\n"
     ]
    }
   ],
   "source": [
    "from keras.datasets import cifar10\n",
    "(X_train, y_train), (X_test, y_test) = cifar10.load_data()\n"
   ]
  },
  {
   "cell_type": "code",
   "execution_count": 5,
   "metadata": {
    "colab": {
     "base_uri": "https://localhost:8080/"
    },
    "id": "mdR9JGppaEd8",
    "outputId": "cfc9bd50-b238-4aa9-dde4-ec9fdbbcadd8"
   },
   "outputs": [
    {
     "data": {
      "text/plain": [
       "(50000, 32, 32, 3)"
      ]
     },
     "execution_count": 5,
     "metadata": {},
     "output_type": "execute_result"
    }
   ],
   "source": [
    "X_train.shape"
   ]
  },
  {
   "cell_type": "code",
   "execution_count": 8,
   "metadata": {
    "colab": {
     "base_uri": "https://localhost:8080/"
    },
    "id": "blHjt0sZaEd9",
    "outputId": "68f9fc63-e11b-4cf7-efb7-bc80fe538436"
   },
   "outputs": [
    {
     "data": {
      "text/plain": [
       "(10000, 32, 32, 3)"
      ]
     },
     "execution_count": 8,
     "metadata": {},
     "output_type": "execute_result"
    }
   ],
   "source": [
    "X_test.shape"
   ]
  },
  {
   "cell_type": "code",
   "execution_count": 10,
   "metadata": {
    "colab": {
     "base_uri": "https://localhost:8080/"
    },
    "id": "Z9fqeNOoaEd-",
    "outputId": "e746b1f8-627b-46b5-d6e9-00bde558a61d"
   },
   "outputs": [
    {
     "data": {
      "text/plain": [
       "(50000, 1)"
      ]
     },
     "execution_count": 10,
     "metadata": {},
     "output_type": "execute_result"
    }
   ],
   "source": [
    "y_train.shape"
   ]
  },
  {
   "cell_type": "code",
   "execution_count": 12,
   "metadata": {
    "colab": {
     "base_uri": "https://localhost:8080/"
    },
    "id": "3ddHVTuqaEd-",
    "outputId": "7140ffbe-6901-4bf7-93a4-ca8d24e115bb"
   },
   "outputs": [
    {
     "data": {
      "text/plain": [
       "(10000, 1)"
      ]
     },
     "execution_count": 12,
     "metadata": {},
     "output_type": "execute_result"
    }
   ],
   "source": [
    "y_test.shape"
   ]
  },
  {
   "cell_type": "markdown",
   "metadata": {
    "id": "T5HuMDVOaEd_"
   },
   "source": [
    "# STEP #2: VISUALIZE DATA"
   ]
  },
  {
   "cell_type": "code",
   "execution_count": 14,
   "metadata": {
    "id": "1qOgXOZ-aEd_"
   },
   "outputs": [
    {
     "name": "stdout",
     "output_type": "stream",
     "text": [
      "[2]\n"
     ]
    },
    {
     "data": {
      "image/png": "[encoded data removed]",
      "text/plain": [
       "<Figure size 640x480 with 1 Axes>"
      ]
     },
     "metadata": {},
     "output_type": "display_data"
    }
   ],
   "source": [
    "i = 10018\n",
    "plt.imshow(X_train[i])\n",
    "print(y_train[i])\n"
   ]
  },
  {
   "cell_type": "markdown",
   "metadata": {
    "id": "JqtwcGelaEeB"
   },
   "source": [
    "# STEP #3: DATA PREPARATION"
   ]
  },
  {
   "cell_type": "code",
   "execution_count": 16,
   "metadata": {
    "id": "29mbyEfzaEeB"
   },
   "outputs": [],
   "source": [
    "X_train = X_train.astype('float32')\n",
    "X_test = X_test.astype('float32')"
   ]
  },
  {
   "cell_type": "code",
   "execution_count": 18,
   "metadata": {
    "id": "DbiL_e2XwpZ-"
   },
   "outputs": [],
   "source": [
    "number_cat = 10"
   ]
  },
  {
   "cell_type": "code",
   "execution_count": 20,
   "metadata": {
    "id": "lTJD6r5FaEeB"
   },
   "outputs": [],
   "source": [
    "import keras\n",
    "y_train = keras.utils.to_categorical(y_train, number_cat)"
   ]
  },
  {
   "cell_type": "code",
   "execution_count": 22,
   "metadata": {
    "colab": {
     "base_uri": "https://localhost:8080/"
    },
    "id": "Ck04MuhUaEeC",
    "outputId": "317fc03c-de6b-4ff4-f3d3-be9753b6827c"
   },
   "outputs": [
    {
     "data": {
      "text/plain": [
       "array([[0., 0., 0., ..., 0., 0., 0.],\n",
       "       [0., 0., 0., ..., 0., 0., 1.],\n",
       "       [0., 0., 0., ..., 0., 0., 1.],\n",
       "       ...,\n",
       "       [0., 0., 0., ..., 0., 0., 1.],\n",
       "       [0., 1., 0., ..., 0., 0., 0.],\n",
       "       [0., 1., 0., ..., 0., 0., 0.]])"
      ]
     },
     "execution_count": 22,
     "metadata": {},
     "output_type": "execute_result"
    }
   ],
   "source": [
    "y_train"
   ]
  },
  {
   "cell_type": "code",
   "execution_count": 24,
   "metadata": {
    "id": "6HR9zn1FaEeC"
   },
   "outputs": [],
   "source": [
    "y_test = keras.utils.to_categorical(y_test, number_cat)"
   ]
  },
  {
   "cell_type": "code",
   "execution_count": 26,
   "metadata": {
    "id": "DigOJaVcaEeC"
   },
   "outputs": [
    {
     "data": {
      "text/plain": [
       "array([[0., 0., 0., ..., 0., 0., 0.],\n",
       "       [0., 0., 0., ..., 0., 1., 0.],\n",
       "       [0., 0., 0., ..., 0., 1., 0.],\n",
       "       ...,\n",
       "       [0., 0., 0., ..., 0., 0., 0.],\n",
       "       [0., 1., 0., ..., 0., 0., 0.],\n",
       "       [0., 0., 0., ..., 1., 0., 0.]])"
      ]
     },
     "execution_count": 26,
     "metadata": {},
     "output_type": "execute_result"
    }
   ],
   "source": [
    "y_test"
   ]
  },
  {
   "cell_type": "code",
   "execution_count": 30,
   "metadata": {
    "id": "CWnrD-bcaEeC"
   },
   "outputs": [],
   "source": [
    "X_train = X_train/255\n",
    "X_test = X_test/255"
   ]
  },
  {
   "cell_type": "code",
   "execution_count": 32,
   "metadata": {
    "id": "aZ35Le1xaEeD"
   },
   "outputs": [
    {
     "data": {
      "text/plain": [
       "array([[[[0.00090734, 0.00095348, 0.00096886],\n",
       "         [0.00066128, 0.00070742, 0.00069204],\n",
       "         [0.00076894, 0.00073818, 0.00066128],\n",
       "         ...,\n",
       "         [0.00242983, 0.00202999, 0.0016609 ],\n",
       "         [0.00233756, 0.00192234, 0.00156863],\n",
       "         [0.00227605, 0.00190696, 0.00158401]],\n",
       "\n",
       "        [[0.00024606, 0.00030757, 0.00030757],\n",
       "         [0.        , 0.        , 0.        ],\n",
       "         [0.00027682, 0.00012303, 0.        ],\n",
       "         ...,\n",
       "         [0.00189158, 0.00135333, 0.00084583],\n",
       "         [0.00183007, 0.00127643, 0.00076894],\n",
       "         [0.0018762 , 0.00133795, 0.00087659]],\n",
       "\n",
       "        [[0.00038447, 0.00036909, 0.00032295],\n",
       "         [0.00024606, 0.00010765, 0.        ],\n",
       "         [0.00075356, 0.00041522, 0.00012303],\n",
       "         ...,\n",
       "         [0.00181469, 0.00129181, 0.00076894],\n",
       "         [0.00184544, 0.00129181, 0.00076894],\n",
       "         [0.00167628, 0.00112265, 0.00064591]],\n",
       "\n",
       "        ...,\n",
       "\n",
       "        [[0.00319877, 0.00261438, 0.00147636],\n",
       "         [0.00309112, 0.00235294, 0.00052288],\n",
       "         [0.00304498, 0.00247597, 0.00039985],\n",
       "         ...,\n",
       "         [0.00246059, 0.00204537, 0.00107651],\n",
       "         [0.00086121, 0.00047674, 0.00010765],\n",
       "         [0.00081507, 0.00052288, 0.00030757]],\n",
       "\n",
       "        [[0.00276817, 0.00213764, 0.00147636],\n",
       "         [0.00266052, 0.00189158, 0.00064591],\n",
       "         [0.00286044, 0.00221453, 0.00046136],\n",
       "         ...,\n",
       "         [0.00282968, 0.00227605, 0.0014456 ],\n",
       "         [0.00149173, 0.00095348, 0.00052288],\n",
       "         [0.00127643, 0.00081507, 0.00052288]],\n",
       "\n",
       "        [[0.00272203, 0.00221453, 0.00178393],\n",
       "         [0.00258362, 0.00198385, 0.0014456 ],\n",
       "         [0.00275279, 0.00218378, 0.00133795],\n",
       "         ...,\n",
       "         [0.0033218 , 0.00282968, 0.00215302],\n",
       "         [0.00232218, 0.00181469, 0.00129181],\n",
       "         [0.00189158, 0.00141484, 0.00110727]]],\n",
       "\n",
       "\n",
       "       [[[0.00236832, 0.00272203, 0.00287582],\n",
       "         [0.00193772, 0.00210688, 0.0020915 ],\n",
       "         [0.00161476, 0.00159938, 0.00146098],\n",
       "         ...,\n",
       "         [0.00139946, 0.00146098, 0.00109189],\n",
       "         [0.00133795, 0.00138408, 0.00109189],\n",
       "         [0.00121492, 0.00124567, 0.00107651]],\n",
       "\n",
       "        [[0.00215302, 0.00246059, 0.002599  ],\n",
       "         [0.00222991, 0.00235294, 0.00236832],\n",
       "         [0.00192234, 0.00192234, 0.00181469],\n",
       "         ...,\n",
       "         [0.00147636, 0.00152249, 0.00119954],\n",
       "         [0.00118416, 0.0012303 , 0.00095348],\n",
       "         [0.00109189, 0.00112265, 0.0009381 ]],\n",
       "\n",
       "        [[0.00215302, 0.0023837 , 0.00252211],\n",
       "         [0.00213764, 0.00224529, 0.00229143],\n",
       "         [0.00176855, 0.00176855, 0.00172241],\n",
       "         ...,\n",
       "         [0.00121492, 0.00126105, 0.00098424],\n",
       "         [0.00104575, 0.00107651, 0.00084583],\n",
       "         [0.00103037, 0.00106113, 0.00084583]],\n",
       "\n",
       "        ...,\n",
       "\n",
       "        [[0.00269127, 0.00256824, 0.00255286],\n",
       "         [0.00239908, 0.00236832, 0.00246059],\n",
       "         [0.00236832, 0.00246059, 0.00261438],\n",
       "         ...,\n",
       "         [0.00064591, 0.00052288, 0.00055363],\n",
       "         [0.0009381 , 0.00081507, 0.00087659],\n",
       "         [0.00143022, 0.00127643, 0.00139946]],\n",
       "\n",
       "        [[0.00253749, 0.00236832, 0.00196847],\n",
       "         [0.00239908, 0.00233756, 0.00199923],\n",
       "         [0.00244521, 0.00247597, 0.00218378],\n",
       "         ...,\n",
       "         [0.00158401, 0.00143022, 0.00147636],\n",
       "         [0.00189158, 0.00175317, 0.00184544],\n",
       "         [0.00201461, 0.00186082, 0.00201461]],\n",
       "\n",
       "        [[0.00250673, 0.00227605, 0.00184544],\n",
       "         [0.00242983, 0.00227605, 0.0018762 ],\n",
       "         [0.00250673, 0.00239908, 0.00204537],\n",
       "         ...,\n",
       "         [0.00219915, 0.00204537, 0.00213764],\n",
       "         [0.00219915, 0.00206075, 0.00218378],\n",
       "         [0.00219915, 0.00204537, 0.00221453]]],\n",
       "\n",
       "\n",
       "       [[[0.00392157, 0.00392157, 0.00392157],\n",
       "         [0.00389081, 0.00389081, 0.00389081],\n",
       "         [0.00389081, 0.00389081, 0.00389081],\n",
       "         ...,\n",
       "         [0.00389081, 0.00389081, 0.00389081],\n",
       "         [0.00389081, 0.00389081, 0.00389081],\n",
       "         [0.00389081, 0.00389081, 0.00389081]],\n",
       "\n",
       "        [[0.00392157, 0.00392157, 0.00392157],\n",
       "         [0.00392157, 0.00392157, 0.00392157],\n",
       "         [0.00392157, 0.00392157, 0.00392157],\n",
       "         ...,\n",
       "         [0.00392157, 0.00392157, 0.00392157],\n",
       "         [0.00392157, 0.00392157, 0.00392157],\n",
       "         [0.00392157, 0.00392157, 0.00392157]],\n",
       "\n",
       "        [[0.00392157, 0.00392157, 0.00392157],\n",
       "         [0.00390619, 0.00390619, 0.00390619],\n",
       "         [0.00390619, 0.00390619, 0.00390619],\n",
       "         ...,\n",
       "         [0.00390619, 0.00390619, 0.00390619],\n",
       "         [0.00390619, 0.00390619, 0.00390619],\n",
       "         [0.00390619, 0.00390619, 0.00390619]],\n",
       "\n",
       "        ...,\n",
       "\n",
       "        [[0.00173779, 0.00184544, 0.00172241],\n",
       "         [0.00170704, 0.00181469, 0.00170704],\n",
       "         [0.00161476, 0.00172241, 0.00163014],\n",
       "         ...,\n",
       "         [0.00110727, 0.00124567, 0.0012303 ],\n",
       "         [0.00110727, 0.0012303 , 0.00121492],\n",
       "         [0.00110727, 0.0012303 , 0.00121492]],\n",
       "\n",
       "        [[0.00170704, 0.00181469, 0.00169166],\n",
       "         [0.00159938, 0.00170704, 0.00159938],\n",
       "         [0.00152249, 0.00163014, 0.00150711],\n",
       "         ...,\n",
       "         [0.00104575, 0.0011534 , 0.00112265],\n",
       "         [0.00107651, 0.00116878, 0.0011534 ],\n",
       "         [0.00119954, 0.00129181, 0.00126105]],\n",
       "\n",
       "        [[0.00163014, 0.00173779, 0.00161476],\n",
       "         [0.00152249, 0.00163014, 0.00150711],\n",
       "         [0.00146098, 0.00156863, 0.0014456 ],\n",
       "         ...,\n",
       "         [0.00119954, 0.00130719, 0.00127643],\n",
       "         [0.00121492, 0.00130719, 0.00127643],\n",
       "         [0.0012303 , 0.00132257, 0.00129181]]],\n",
       "\n",
       "\n",
       "       ...,\n",
       "\n",
       "\n",
       "       [[[0.00053825, 0.00273741, 0.00361399],\n",
       "         [0.00061515, 0.00270665, 0.00367551],\n",
       "         [0.00064591, 0.00270665, 0.00370627],\n",
       "         ...,\n",
       "         [0.00152249, 0.00272203, 0.00336794],\n",
       "         [0.00121492, 0.00226067, 0.0030296 ],\n",
       "         [0.0013687 , 0.00227605, 0.00290657]],\n",
       "\n",
       "        [[0.00087659, 0.00279892, 0.00359862],\n",
       "         [0.00067666, 0.00282968, 0.00384468],\n",
       "         [0.00076894, 0.0028143 , 0.00369089],\n",
       "         ...,\n",
       "         [0.00239908, 0.00279892, 0.00307574],\n",
       "         [0.0021684 , 0.00272203, 0.00316801],\n",
       "         [0.00178393, 0.00229143, 0.00269127]],\n",
       "\n",
       "        [[0.00150711, 0.0030296 , 0.00364475],\n",
       "         [0.00098424, 0.00290657, 0.00387543],\n",
       "         [0.00106113, 0.00295271, 0.00376778],\n",
       "         ...,\n",
       "         [0.0028912 , 0.00299885, 0.00316801],\n",
       "         [0.00183007, 0.00207612, 0.00226067],\n",
       "         [0.0009381 , 0.00121492, 0.00138408]],\n",
       "\n",
       "        ...,\n",
       "\n",
       "        [[0.00112265, 0.00121492, 0.00118416],\n",
       "         [0.00081507, 0.00096886, 0.00104575],\n",
       "         [0.00083045, 0.00104575, 0.0012303 ],\n",
       "         ...,\n",
       "         [0.00026144, 0.00061515, 0.00098424],\n",
       "         [0.00032295, 0.00055363, 0.00078431],\n",
       "         [0.0005075 , 0.00073818, 0.00075356]],\n",
       "\n",
       "        [[0.0009381 , 0.00104575, 0.0011534 ],\n",
       "         [0.00084583, 0.00107651, 0.00132257],\n",
       "         [0.00087659, 0.00121492, 0.00158401],\n",
       "         ...,\n",
       "         [0.00036909, 0.00073818, 0.00110727],\n",
       "         [0.00026144, 0.00053825, 0.00081507],\n",
       "         [0.00010765, 0.00035371, 0.00049212]],\n",
       "\n",
       "        [[0.00067666, 0.00086121, 0.00112265],\n",
       "         [0.00070742, 0.00101499, 0.00135333],\n",
       "         [0.00075356, 0.00118416, 0.00161476],\n",
       "         ...,\n",
       "         [0.00041522, 0.00079969, 0.00118416],\n",
       "         [0.00032295, 0.00066128, 0.00101499],\n",
       "         [0.00018454, 0.00047674, 0.00076894]]],\n",
       "\n",
       "\n",
       "       [[[0.00290657, 0.00324491, 0.00369089],\n",
       "         [0.00286044, 0.00319877, 0.00362937],\n",
       "         [0.00284506, 0.00318339, 0.00361399],\n",
       "         ...,\n",
       "         [0.00269127, 0.00299885, 0.00344483],\n",
       "         [0.00264514, 0.00298347, 0.00341407],\n",
       "         [0.002599  , 0.00298347, 0.00338331]],\n",
       "\n",
       "        [[0.00298347, 0.00322953, 0.00367551],\n",
       "         [0.00293733, 0.00318339, 0.00362937],\n",
       "         [0.00292195, 0.00316801, 0.00361399],\n",
       "         ...,\n",
       "         [0.00266052, 0.00295271, 0.00338331],\n",
       "         [0.00262976, 0.00293733, 0.00335256],\n",
       "         [0.00256824, 0.00292195, 0.0033218 ]],\n",
       "\n",
       "        [[0.00319877, 0.00336794, 0.0037524 ],\n",
       "         [0.00315263, 0.0033218 , 0.00369089],\n",
       "         [0.00313725, 0.00330642, 0.00367551],\n",
       "         ...,\n",
       "         [0.00269127, 0.00293733, 0.00333718],\n",
       "         [0.00264514, 0.00292195, 0.0033218 ],\n",
       "         [0.002599  , 0.00293733, 0.00330642]],\n",
       "\n",
       "        ...,\n",
       "\n",
       "        [[0.00318339, 0.00306036, 0.00278354],\n",
       "         [0.00312188, 0.00299885, 0.00269127],\n",
       "         [0.00312188, 0.00301423, 0.00266052],\n",
       "         ...,\n",
       "         [0.00207612, 0.00202999, 0.00195309],\n",
       "         [0.00249135, 0.00242983, 0.00230681],\n",
       "         [0.00258362, 0.00250673, 0.00232218]],\n",
       "\n",
       "        [[0.00304498, 0.00292195, 0.00261438],\n",
       "         [0.00290657, 0.00278354, 0.00244521],\n",
       "         [0.00276817, 0.00264514, 0.00226067],\n",
       "         ...,\n",
       "         [0.00273741, 0.00262976, 0.00246059],\n",
       "         [0.00269127, 0.002599  , 0.00239908],\n",
       "         [0.00269127, 0.002599  , 0.00236832]],\n",
       "\n",
       "        [[0.00304498, 0.00290657, 0.00266052],\n",
       "         [0.00290657, 0.00278354, 0.00249135],\n",
       "         [0.00273741, 0.00261438, 0.00229143],\n",
       "         ...,\n",
       "         [0.00299885, 0.00282968, 0.002599  ],\n",
       "         [0.00301423, 0.00290657, 0.00262976],\n",
       "         [0.00299885, 0.00292195, 0.00262976]]],\n",
       "\n",
       "\n",
       "       [[[0.00352172, 0.00352172, 0.00367551],\n",
       "         [0.00362937, 0.00364475, 0.00379854],\n",
       "         [0.00359862, 0.00362937, 0.00379854],\n",
       "         ...,\n",
       "         [0.00333718, 0.00336794, 0.00358324],\n",
       "         [0.00339869, 0.00342945, 0.00359862],\n",
       "         [0.00341407, 0.00342945, 0.00358324]],\n",
       "\n",
       "        [[0.00341407, 0.00339869, 0.00352172],\n",
       "         [0.00367551, 0.00367551, 0.0038293 ],\n",
       "         [0.00358324, 0.00359862, 0.00378316],\n",
       "         ...,\n",
       "         [0.00342945, 0.00342945, 0.00362937],\n",
       "         [0.00349097, 0.00350634, 0.00366013],\n",
       "         [0.00322953, 0.00324491, 0.00338331]],\n",
       "\n",
       "        [[0.00327566, 0.00316801, 0.00324491],\n",
       "         [0.00359862, 0.00356786, 0.00367551],\n",
       "         [0.00355248, 0.00358324, 0.0037524 ],\n",
       "         ...,\n",
       "         [0.00338331, 0.00338331, 0.00356786],\n",
       "         [0.00338331, 0.00336794, 0.00356786],\n",
       "         [0.0031065 , 0.00312188, 0.00330642]],\n",
       "\n",
       "        ...,\n",
       "\n",
       "        [[0.00230681, 0.00219915, 0.00207612],\n",
       "         [0.00215302, 0.00207612, 0.00195309],\n",
       "         [0.00202999, 0.00195309, 0.00184544],\n",
       "         ...,\n",
       "         [0.00344483, 0.00341407, 0.00335256],\n",
       "         [0.0035371 , 0.00350634, 0.00346021],\n",
       "         [0.00370627, 0.00370627, 0.00366013]],\n",
       "\n",
       "        [[0.00210688, 0.00202999, 0.00193772],\n",
       "         [0.00199923, 0.00195309, 0.00184544],\n",
       "         [0.00192234, 0.00186082, 0.00176855],\n",
       "         ...,\n",
       "         [0.00278354, 0.00276817, 0.00273741],\n",
       "         [0.0031065 , 0.00309112, 0.00304498],\n",
       "         [0.00326028, 0.00324491, 0.00318339]],\n",
       "\n",
       "        [[0.0018762 , 0.00183007, 0.00175317],\n",
       "         [0.00181469, 0.00178393, 0.00169166],\n",
       "         [0.00184544, 0.00178393, 0.00170704],\n",
       "         ...,\n",
       "         [0.00275279, 0.00272203, 0.00266052],\n",
       "         [0.00252211, 0.00252211, 0.00249135],\n",
       "         [0.00250673, 0.00250673, 0.00247597]]]], dtype=float32)"
      ]
     },
     "execution_count": 32,
     "metadata": {},
     "output_type": "execute_result"
    }
   ],
   "source": [
    "X_train"
   ]
  },
  {
   "cell_type": "code",
   "execution_count": 34,
   "metadata": {
    "id": "N1_wqkgcyDLe"
   },
   "outputs": [
    {
     "data": {
      "text/plain": [
       "(50000, 32, 32, 3)"
      ]
     },
     "execution_count": 34,
     "metadata": {},
     "output_type": "execute_result"
    }
   ],
   "source": [
    "X_train.shape"
   ]
  },
  {
   "cell_type": "code",
   "execution_count": 36,
   "metadata": {},
   "outputs": [],
   "source": [
    "Input_shape = X_train.shape[1:]"
   ]
  },
  {
   "cell_type": "markdown",
   "metadata": {
    "id": "rFhv1-zKaEeE"
   },
   "source": [
    "# STEP #4: TRAIN THE MODEL"
   ]
  },
  {
   "cell_type": "code",
   "execution_count": 38,
   "metadata": {
    "id": "nm99y0goaEeE"
   },
   "outputs": [],
   "source": [
    "from keras.models import Sequential\n",
    "from keras.layers import Conv2D, MaxPooling2D, Dense, Flatten, Dropout\n",
    "from keras.optimizers import Adam\n"
   ]
  },
  {
   "cell_type": "code",
   "execution_count": 40,
   "metadata": {
    "id": "L8Xzy5oQaEeE"
   },
   "outputs": [
    {
     "name": "stderr",
     "output_type": "stream",
     "text": [
      "/opt/anaconda3/lib/python3.12/site-packages/keras/src/layers/convolutional/base_conv.py:107: UserWarning: Do not pass an `input_shape`/`input_dim` argument to a layer. When using Sequential models, prefer using an `Input(shape)` object as the first layer in the model instead.\n",
      "  super().__init__(activity_regularizer=activity_regularizer, **kwargs)\n"
     ]
    }
   ],
   "source": [
    "\n",
    "model = Sequential()\n",
    "model.add(Conv2D(filters = 64, kernel_size = (3,3), activation = 'relu', input_shape = Input_shape))\n",
    "model.add(MaxPooling2D(2,2))\n",
    "model.add(Dropout(0.4))\n",
    "\n",
    "model.add(Conv2D(filters = 64, kernel_size = (3,3), activation = 'relu'))\n",
    "model.add(MaxPooling2D(2,2))\n",
    "model.add(Dropout(0.4))\n",
    "\n",
    "model.add(Flatten())\n",
    "\n",
    "model.add(Dense(units = 512, activation = 'relu'))\n",
    "\n",
    "model.add(Dense(units = 10, activation = 'softmax'))\n"
   ]
  },
  {
   "cell_type": "code",
   "execution_count": 42,
   "metadata": {
    "id": "W9P-TC2naEeF"
   },
   "outputs": [],
   "source": [
    "model.compile(loss = 'categorical_crossentropy', optimizer = \"adam\", metrics = ['accuracy'])\n"
   ]
  },
  {
   "cell_type": "code",
   "execution_count": 48,
   "metadata": {
    "id": "ll_n9qHTaEeF"
   },
   "outputs": [
    {
     "name": "stdout",
     "output_type": "stream",
     "text": [
      "Epoch 1/20\n",
      "\u001b[1m1563/1563\u001b[0m \u001b[32m━━━━━━━━━━━━━━━━━━━━\u001b[0m\u001b[37m\u001b[0m \u001b[1m19s\u001b[0m 12ms/step - accuracy: 0.4505 - loss: 1.5370\n",
      "Epoch 2/20\n",
      "\u001b[1m1563/1563\u001b[0m \u001b[32m━━━━━━━━━━━━━━━━━━━━\u001b[0m\u001b[37m\u001b[0m \u001b[1m18s\u001b[0m 11ms/step - accuracy: 0.4637 - loss: 1.4987\n",
      "Epoch 3/20\n",
      "\u001b[1m1563/1563\u001b[0m \u001b[32m━━━━━━━━━━━━━━━━━━━━\u001b[0m\u001b[37m\u001b[0m \u001b[1m18s\u001b[0m 12ms/step - accuracy: 0.4616 - loss: 1.4907\n",
      "Epoch 4/20\n",
      "\u001b[1m1563/1563\u001b[0m \u001b[32m━━━━━━━━━━━━━━━━━━━━\u001b[0m\u001b[37m\u001b[0m \u001b[1m18s\u001b[0m 11ms/step - accuracy: 0.4736 - loss: 1.4692\n",
      "Epoch 5/20\n",
      "\u001b[1m1563/1563\u001b[0m \u001b[32m━━━━━━━━━━━━━━━━━━━━\u001b[0m\u001b[37m\u001b[0m \u001b[1m18s\u001b[0m 12ms/step - accuracy: 0.4806 - loss: 1.4507\n",
      "Epoch 6/20\n",
      "\u001b[1m1563/1563\u001b[0m \u001b[32m━━━━━━━━━━━━━━━━━━━━\u001b[0m\u001b[37m\u001b[0m \u001b[1m20s\u001b[0m 13ms/step - accuracy: 0.4909 - loss: 1.4317\n",
      "Epoch 7/20\n",
      "\u001b[1m1563/1563\u001b[0m \u001b[32m━━━━━━━━━━━━━━━━━━━━\u001b[0m\u001b[37m\u001b[0m \u001b[1m18s\u001b[0m 12ms/step - accuracy: 0.4905 - loss: 1.4265\n",
      "Epoch 8/20\n",
      "\u001b[1m1563/1563\u001b[0m \u001b[32m━━━━━━━━━━━━━━━━━━━━\u001b[0m\u001b[37m\u001b[0m \u001b[1m19s\u001b[0m 12ms/step - accuracy: 0.4988 - loss: 1.4100\n",
      "Epoch 9/20\n",
      "\u001b[1m1563/1563\u001b[0m \u001b[32m━━━━━━━━━━━━━━━━━━━━\u001b[0m\u001b[37m\u001b[0m \u001b[1m19s\u001b[0m 12ms/step - accuracy: 0.5005 - loss: 1.3976\n",
      "Epoch 10/20\n",
      "\u001b[1m1563/1563\u001b[0m \u001b[32m━━━━━━━━━━━━━━━━━━━━\u001b[0m\u001b[37m\u001b[0m \u001b[1m19s\u001b[0m 12ms/step - accuracy: 0.5095 - loss: 1.3812\n",
      "Epoch 11/20\n",
      "\u001b[1m1563/1563\u001b[0m \u001b[32m━━━━━━━━━━━━━━━━━━━━\u001b[0m\u001b[37m\u001b[0m \u001b[1m18s\u001b[0m 12ms/step - accuracy: 0.5116 - loss: 1.3726\n",
      "Epoch 12/20\n",
      "\u001b[1m1563/1563\u001b[0m \u001b[32m━━━━━━━━━━━━━━━━━━━━\u001b[0m\u001b[37m\u001b[0m \u001b[1m19s\u001b[0m 12ms/step - accuracy: 0.5156 - loss: 1.3586\n",
      "Epoch 13/20\n",
      "\u001b[1m1563/1563\u001b[0m \u001b[32m━━━━━━━━━━━━━━━━━━━━\u001b[0m\u001b[37m\u001b[0m \u001b[1m18s\u001b[0m 12ms/step - accuracy: 0.5151 - loss: 1.3512\n",
      "Epoch 14/20\n",
      "\u001b[1m1563/1563\u001b[0m \u001b[32m━━━━━━━━━━━━━━━━━━━━\u001b[0m\u001b[37m\u001b[0m \u001b[1m19s\u001b[0m 12ms/step - accuracy: 0.5207 - loss: 1.3449\n",
      "Epoch 15/20\n",
      "\u001b[1m1563/1563\u001b[0m \u001b[32m━━━━━━━━━━━━━━━━━━━━\u001b[0m\u001b[37m\u001b[0m \u001b[1m19s\u001b[0m 12ms/step - accuracy: 0.5225 - loss: 1.3343\n",
      "Epoch 16/20\n",
      "\u001b[1m1563/1563\u001b[0m \u001b[32m━━━━━━━━━━━━━━━━━━━━\u001b[0m\u001b[37m\u001b[0m \u001b[1m19s\u001b[0m 12ms/step - accuracy: 0.5283 - loss: 1.3208\n",
      "Epoch 17/20\n",
      "\u001b[1m1563/1563\u001b[0m \u001b[32m━━━━━━━━━━━━━━━━━━━━\u001b[0m\u001b[37m\u001b[0m \u001b[1m19s\u001b[0m 12ms/step - accuracy: 0.5339 - loss: 1.3015\n",
      "Epoch 18/20\n",
      "\u001b[1m1563/1563\u001b[0m \u001b[32m━━━━━━━━━━━━━━━━━━━━\u001b[0m\u001b[37m\u001b[0m \u001b[1m19s\u001b[0m 12ms/step - accuracy: 0.5363 - loss: 1.3048\n",
      "Epoch 19/20\n",
      "\u001b[1m1563/1563\u001b[0m \u001b[32m━━━━━━━━━━━━━━━━━━━━\u001b[0m\u001b[37m\u001b[0m \u001b[1m18s\u001b[0m 12ms/step - accuracy: 0.5371 - loss: 1.2892\n",
      "Epoch 20/20\n",
      "\u001b[1m1563/1563\u001b[0m \u001b[32m━━━━━━━━━━━━━━━━━━━━\u001b[0m\u001b[37m\u001b[0m \u001b[1m19s\u001b[0m 12ms/step - accuracy: 0.5430 - loss: 1.2869\n"
     ]
    }
   ],
   "source": [
    "history = model.fit(X_train, y_train, batch_size = 32, epochs = 20, shuffle = True)\n"
   ]
  },
  {
   "cell_type": "markdown",
   "metadata": {
    "id": "0fq-1g9taEeF"
   },
   "source": [
    "# STEP #5: EVALUATE THE MODEL"
   ]
  },
  {
   "cell_type": "code",
   "execution_count": 50,
   "metadata": {
    "id": "Jc5AR_a2aEeG"
   },
   "outputs": [
    {
     "name": "stdout",
     "output_type": "stream",
     "text": [
      "\u001b[1m313/313\u001b[0m \u001b[32m━━━━━━━━━━━━━━━━━━━━\u001b[0m\u001b[37m\u001b[0m \u001b[1m1s\u001b[0m 4ms/step - accuracy: 0.1466 - loss: 280.9076\n",
      "Test Accuracy: 0.1460999995470047\n"
     ]
    }
   ],
   "source": [
    "evaluation = model.evaluate(X_test, y_test)\n",
    "print('Test Accuracy: {}'.format(evaluation[1]))\n"
   ]
  },
  {
   "cell_type": "code",
   "execution_count": null,
   "metadata": {},
   "outputs": [],
   "source": []
  }
 ],
 "metadata": {
  "colab": {
   "provenance": []
  },
  "kernelspec": {
   "display_name": "Python 3 (ipykernel)",
   "language": "python",
   "name": "python3"
  },
  "language_info": {
   "codemirror_mode": {
    "name": "ipython",
    "version": 3
   },
   "file_extension": ".py",
   "mimetype": "text/x-python",
   "name": "python",
   "nbconvert_exporter": "python",
   "pygments_lexer": "ipython3",
   "version": "3.12.4"
  }
 },
 "nbformat": 4,
 "nbformat_minor": 4
}
